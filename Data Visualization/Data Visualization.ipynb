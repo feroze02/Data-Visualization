{
 "cells": [
  {
   "cell_type": "code",
   "execution_count": 1,
   "metadata": {},
   "outputs": [],
   "source": [
    "import matplotlib.pyplot as plt\n",
    "import pandas as pd\n",
    "from numpy import nan\n",
    "%matplotlib inline"
   ]
  },
  {
   "cell_type": "markdown",
   "metadata": {},
   "source": [
    "# Report"
   ]
  },
  {
   "cell_type": "markdown",
   "metadata": {},
   "source": [
    "## Research  topic\n",
    "<p style='text-align: justify;'>\n",
    "In the United Kingdom, household food security has always been a source of concern, and recent food price increases and logistical distribution have exacerbated this concern. The research investigates how income, state support, region, education, tenure, ethnicity, age, and disability affect household food security in the United Kingdom.</p>\n",
    "<p style='text-align: justify;'>\n",
    "Food security, in general, refers to whether a country has enough food to meet its people's needs and demands. Household food security, as opposed to national food security, addresses people's access to food to meet their nutrition needs. In 1996, the World Food Summit agreed on the following definition: “food security exists when all people, at all times, have physical and economic access to sufficient safe and nutritious food to meet their dietary needs and food preferences for a healthy and active life” (Rome Declaration on World Food Security 1996).</p>\n",
    "<p style='text-align: justify;'>\n",
    "The concept of food security, which has been used in the research, is very useful for measuring wellbeing and welfare at the household level. If all members of a household have access to the food they require, the household is considered food secure. It is common to distinguish between permanent and transitory food insecurity, the former referring to a long-term lack of access to adequate food and the latter to seasonal food insecurity.</p>\n",
    "\n",
    "Concepts:\n",
    "\n",
    "•\tCountry and Region – The country and region where household live.\n",
    "\n",
    "•\tHousehold weekly income - The household's total weekly income.\n",
    "\n",
    "•\tState support – The household receiving any form of state assistance.\n",
    "\n",
    "•\tHighest qualification – The highest level of qualification of the household's head. The highest level of qualification obtained is used to measure educational attainment.\n",
    "\n",
    "•\tAge group – The head of the household is of working or pensionable age.\n",
    "\n",
    "•\tEthnic group and Ethnicity – The ethnic group and ethnicity of the household's head.\n",
    "\n",
    "•\tFood secure – Food secure households have enough variety of food to sustain a healthy and active lifestyle.\n",
    "\n",
    "•\tFood insecure – Households that are food insecure are at risk of not having enough diverse food or access to it."
   ]
  },
  {
   "cell_type": "markdown",
   "metadata": {},
   "source": [
    "## Data collection, overview and pre-processing\n",
    "Data Source\n",
    "<p style='text-align: justify;'>\n",
    "The gov.uk website served as the primary source of data for this project, specifically the household food security dataset found in the documents section of the “Family Resources Survey: financial year 2019 to 2020” (Family Resources Survey, n.d.). The dataset was presented in Microsoft Excel Spreadsheet (XLS) format, with ten different tables containing statistics on household food security in the UK.</p>\n",
    "\n",
    "Cleaning and Pre-processing\n",
    "<p style='text-align: justify;'>\n",
    "Necessary cleaning and format changes were made to the dataset before performing any analysis on the data.  This makes working with the data easier later on. Because the data was spread across multiple sheets, only the necessary sheet were extracted from the dataset, and unnecessary elements like references and footnotes were removed. Unnecessary fields that could interfere with the data analysis, such as pie and bar charts, were removed from the dataset. Few data points were presented in tabular format, and the data was serialised to some extent so that each data point has its individual row while maintaining its format. Also, few of the tables were rearranged to make them easier to plot when generating the visualisation. The pre-processing and cleaning action was carried out in Microsoft Excel, with the data saved in XLSX format.</p>"
   ]
  },
  {
   "cell_type": "markdown",
   "metadata": {},
   "source": [
    "## Data analysis, visualization and results\n",
    "<p style='text-align: justify;'>\n",
    "The research looks into how household food security in the United Kingdom is affected by factors such as income, state support, region, education, tenure, ethnicity, age, and disability. The analysis and visualisation phase begin by identifying the variables of interest in the dataset and categorising the variables based on their types. The variables of interest are briefly described below. The dataset contains a sample size of 19,041 people who answered questions about their income, state support, region, education, homeownership, ethnicity, age, and disability in relation to household food security.</p>\n",
    "\n",
    "Variables of interest\n",
    "\n",
    "•\tCountry / Region – The country and region where household live (Categorical - Nominal)\n",
    "\n",
    "•\tHousehold weekly income - The household's total weekly income (Categorical - Ordinal)\n",
    "\n",
    "•\tState support – The household receiving any form of state assistance (Categorical - Nominal)\n",
    "\n",
    "•\tHighest qualification – The highest level of qualification of the household's head. The highest level of qualification obtained is used to measure educational attainment (Categorical - Nominal)\n",
    "\n",
    "•\tHomeowner / Tenure – Households that own their own home or are social renters (Categorical - Nominal)\n",
    "\n",
    "•\tAge group – The head of the household is of working or pensionable age (Categorical - Ordinal)\n",
    "\n",
    "•\tEthnic group / Ethnicity – The ethnic group and ethnicity of the household's head (Categorical - Nominal)\n",
    "\n",
    "•\tDisability – Household with disabled member (Categorical - Nominal)\n",
    "\n",
    "•\tFood secure / insecure – Food secure households have enough variety of food to sustain a healthy and active lifestyle. Households that are food insecure are at risk of not having enough diverse food or access to it (Categorical - Nominal)\n",
    "\n",
    "<p style='text-align: justify;'>\n",
    "The majority of households in the dataset's sample size were food secure. The dataset had a sample size of 19,041 households in the UK, with 92% being food secure, 4% being low food secure, and the remaining 4% being very low food secure. Most of households of the sample size in the dataset were food secure.</p>"
   ]
  },
  {
   "cell_type": "code",
   "execution_count": 2,
   "metadata": {},
   "outputs": [
    {
     "name": "stdout",
     "output_type": "stream",
     "text": [
      "Food Security in United Kingdom\n"
     ]
    },
    {
     "data": {
      "image/png": "[encoded data removed]",
      "text/plain": [
       "<Figure size 432x288 with 1 Axes>"
      ]
     },
     "metadata": {},
     "output_type": "display_data"
    },
    {
     "name": "stdout",
     "output_type": "stream",
     "text": [
      "                High  Marginal  Low  Very low\n",
      "Region/Country                               \n",
      "United Kingdom  87.0       6.0  4.0       4.0\n"
     ]
    }
   ],
   "source": [
    "# Pie Chart 1. Food Security in United Kingdom- percentage\n",
    "# Table 1. Region/Country\n",
    "df = pd.read_excel('Ch9_Household_Food_Security.xlsx', sheet_name='9.1', usecols = \"B, C, D, E, F\", \n",
    "                   skiprows = (0, 1, 2, 3, 4, 5, 6, 7, 9))\n",
    "df.set_index('Region/Country', inplace=True)\n",
    "hfs = df.loc['United Kingdom']\n",
    "hfsp = hfs['High': \"Very low\"]\n",
    "hfsp.plot(kind='pie', autopct='%1.1f%%', label='United Kingdom')\n",
    "print (\"Food Security in United Kingdom\")\n",
    "plt.xlabel(\"Percentage (%)\")\n",
    "plt.show()\n",
    "print(df.head(1))"
   ]
  },
  {
   "cell_type": "markdown",
   "metadata": {},
   "source": [
    "Country / Region\n",
    "<p style='text-align: justify;'>\n",
    "In terms of household food security, there were regional differences. Food security was lowest in the North of England, with 90%. With 95% of household food secure, east England had the highest rate of food security, followed by the Southeast and Southwest, which had 94%. The levels of household food security in the United Kingdom's four countries were all similar. All four nations in the UK had nearly the same rate of low food security. However, the rate varied by region within England.</p>"
   ]
  },
  {
   "cell_type": "code",
   "execution_count": 3,
   "metadata": {},
   "outputs": [
    {
     "name": "stdout",
     "output_type": "stream",
     "text": [
      "Regional Food Security\n"
     ]
    },
    {
     "data": {
      "image/png": "[encoded data removed]",
      "text/plain": [
       "<Figure size 432x288 with 1 Axes>"
      ]
     },
     "metadata": {
      "needs_background": "light"
     },
     "output_type": "display_data"
    },
    {
     "name": "stdout",
     "output_type": "stream",
     "text": [
      "                  Food_secure\n",
      "Region/Country               \n",
      "England                  92.0\n",
      "Wales                    93.0\n",
      "Scotland                 92.0\n",
      "Northern Ireland         93.0\n",
      "North East               89.0\n",
      "North West               90.0\n",
      "East                     95.0\n",
      "South East               94.0\n",
      "South West               94.0\n"
     ]
    }
   ],
   "source": [
    "# Bar Chart 1. Regional Food Security- percentage\n",
    "# Table 2. Region/Country\n",
    "df = pd.read_excel('Ch9_Household_Food_Security.xlsx', sheet_name='9.1', usecols = \"B, H\", \n",
    "                   skiprows = (0, 1, 2, 3, 4, 5, 6, 7, 9, 10, 11, 12, 17, 18, 21, 22, 23, 25, 26, 27))\n",
    "df.set_index('Region/Country', inplace=True)\n",
    "fsbr = df.Food_secure['England':'South West']\n",
    "print (\"Regional Food Security\")\n",
    "fsbr.plot(kind='barh')\n",
    "plt.xlabel(\"Percentage (%)\")\n",
    "plt.show()\n",
    "print(df.head(9))"
   ]
  },
  {
   "cell_type": "markdown",
   "metadata": {},
   "source": [
    "Household weekly income\n",
    "<p style='text-align: justify;'>\n",
    "Household income is critical to food security. Food security is higher in households with higher weekly incomes. An increase in household income will also ensure food security. Households with less than £200 in weekly income were more food insecure, whereas households with £1000 or more in weekly income were more food secure. Only 2% of households earning more than £1000 per week were food insecure, compared to 19% of those earning less than £200 per week.</p>"
   ]
  },
  {
   "cell_type": "code",
   "execution_count": 4,
   "metadata": {},
   "outputs": [
    {
     "name": "stdout",
     "output_type": "stream",
     "text": [
      "Household income and food security\n"
     ]
    },
    {
     "data": {
      "image/png": "[encoded data removed]",
      "text/plain": [
       "<Figure size 432x288 with 1 Axes>"
      ]
     },
     "metadata": {
      "needs_background": "light"
     },
     "output_type": "display_data"
    },
    {
     "name": "stdout",
     "output_type": "stream",
     "text": [
      "                           Food_secure  Food_insecure\n",
      "Total gross weekly income                            \n",
      "Less than £200                    81.0           19.0\n",
      "£200 but less than £400           87.0           13.0\n",
      "£400 but less than £600           90.0           10.0\n",
      "£600 but less than £800           93.0            7.0\n",
      "£800 but less than £1,000         96.0            4.0\n",
      "£1,000 or more                    98.0            2.0\n"
     ]
    }
   ],
   "source": [
    "# Box plot 1. Household income and food security- percentage\n",
    "# Table 3. Total gross weekly income\n",
    "df = pd.read_excel('Ch9_Household_Food_Security.xlsx', sheet_name='9.8', usecols = \"B, I, J\", \n",
    "                   skiprows = (0, 1, 2, 3, 4, 5, 6, 7, 9, 10, 11))\n",
    "df.set_index('Total gross weekly income', inplace=True)\n",
    "twif = df.Food_secure['Less than £200':'£1,000 or more']\n",
    "twih = df.Food_insecure['Less than £200':'£1,000 or more']\n",
    "print (\"Household income and food security\")\n",
    "labels = ['Food secure', 'Food insecure']\n",
    "plt.boxplot([twif, twih], labels=labels)\n",
    "plt.xlabel(\"Household food security\")\n",
    "plt.ylabel(\"Percentage (%)\")\n",
    "plt.grid()\n",
    "plt.show()\n",
    "print(df.head(6))"
   ]
  },
  {
   "cell_type": "markdown",
   "metadata": {},
   "source": [
    "Highest qualification\n",
    "<p style='text-align: justify;'>\n",
    "Higher qualification obtained by head of household ensures greater household food security. Food security was attained by 92% where head of household held a Level 4 or higher qualification, compared to 80% where head of household head held a Level 2 or lower qualification. The food security differs little between household with a head of household with a Level 2 or lower qualification.</p>"
   ]
  },
  {
   "cell_type": "code",
   "execution_count": 5,
   "metadata": {},
   "outputs": [
    {
     "name": "stdout",
     "output_type": "stream",
     "text": [
      "Highest qualification and food security\n"
     ]
    },
    {
     "data": {
      "image/png": "[encoded data removed]",
      "text/plain": [
       "<Figure size 432x288 with 1 Axes>"
      ]
     },
     "metadata": {
      "needs_background": "light"
     },
     "output_type": "display_data"
    },
    {
     "name": "stdout",
     "output_type": "stream",
     "text": [
      "                                High  Low\n",
      "Educational attainment of head           \n",
      "Entry level                     74.0  8.0\n",
      "Level 1                         81.0  5.0\n",
      "Level 2                         80.0  6.0\n",
      "Level 3                         86.0  4.0\n",
      "Level 4 or higher               92.0  2.0\n",
      "Other qualification             86.0  3.0\n",
      "No reported qualifications      82.0  5.0\n"
     ]
    }
   ],
   "source": [
    "# Scatter plot 1. Highest qualification and food security- percentage\n",
    "# Table 4. Educational attainment of head\n",
    "df = pd.read_excel('Ch9_Household_Food_Security.xlsx', sheet_name='9.5', usecols = \"B, C, E\", \n",
    "                   skiprows = (0, 1, 2, 3, 4, 5, 6, 7, 9, 10, 16, 18))\n",
    "df.set_index('Educational attainment of head', inplace=True)\n",
    "print (\"Highest qualification and food security\")\n",
    "df.plot.scatter('High', 'Low')\n",
    "plt.ylabel(\"Low (%)\")\n",
    "plt.xlabel(\"High (%)\")\n",
    "plt.grid()\n",
    "plt.show()\n",
    "print(df.head(7))"
   ]
  },
  {
   "cell_type": "markdown",
   "metadata": {},
   "source": [
    "Homeowner / Tenure\n",
    "<p style='text-align: justify;'>\n",
    "Food security was higher in households that owned their own home than in households that rented from a social or private landlord. Food security was attained by 98% of homeowners, compared to 76% and 88% of social and private renters, respectively. The majority of households in the dataset's sample size that owned their own home were food secure.</p>"
   ]
  },
  {
   "cell_type": "code",
   "execution_count": 6,
   "metadata": {},
   "outputs": [
    {
     "name": "stdout",
     "output_type": "stream",
     "text": [
      "Homeowner/Tenure and food security (%)\n",
      "\n",
      "                        High  Marginal   Low Very low\n",
      "Tenure                                               \n",
      "Owned outright          96.0       2.0   1.0        1\n",
      "Buying with a mortgage  93.0       4.0   2.0        1\n",
      "Social renting sector   65.0      11.0  11.0       13\n",
      "Private renting sector  79.0      10.0   6.0        6\n"
     ]
    }
   ],
   "source": [
    "# Table 5. Homeowner/Tenure- percentage\n",
    "df = pd.read_excel('Ch9_Household_Food_Security.xlsx', sheet_name='9.9', usecols = \"B, C, D, E, F\", \n",
    "                   skiprows = (0, 1, 2, 3, 4, 5, 6, 8, 9, 10))\n",
    "df.set_index('Tenure', inplace=True)\n",
    "print (\"Homeowner/Tenure and food security (%)\")\n",
    "print()\n",
    "print(df.head(4))"
   ]
  },
  {
   "cell_type": "markdown",
   "metadata": {},
   "source": [
    "Age group\n",
    "<p style='text-align: justify;'>\n",
    "Households with an older household head were more food secure than those with a younger household head. Food insecurity affected 15 percent of household with a household head aged up to 24, but only 1% of households with a head of household aged 85 or older were food insecure. With the exception of the 35-44 age group, where food security has slightly declined.</p>"
   ]
  },
  {
   "cell_type": "code",
   "execution_count": 7,
   "metadata": {},
   "outputs": [
    {
     "name": "stdout",
     "output_type": "stream",
     "text": [
      "Age group and food security\n",
      "\n"
     ]
    },
    {
     "data": {
      "image/png": "[encoded data removed]",
      "text/plain": [
       "<Figure size 432x288 with 1 Axes>"
      ]
     },
     "metadata": {
      "needs_background": "light"
     },
     "output_type": "display_data"
    },
    {
     "name": "stdout",
     "output_type": "stream",
     "text": [
      "                   High  Marginal  Low\n",
      "Age group of head                     \n",
      "16 to 24           73.0      11.0  7.0\n",
      "25 to 34           82.0       8.0  5.0\n",
      "35 to 44           81.0       7.0  6.0\n",
      "45 to 54           84.0       6.0  5.0\n",
      "55 to 59           88.0       5.0  3.0\n",
      "60 to 64           88.0       5.0  3.0\n",
      "65 to 74           93.0       4.0  2.0\n",
      "75 to 84           96.0       3.0  1.0\n",
      "85 or over         97.0       2.0  1.0\n"
     ]
    }
   ],
   "source": [
    "# Line plot 1. Age group and food security- percentage\n",
    "# Table 6. Age group of head\n",
    "df = pd.read_excel('Ch9_Household_Food_Security.xlsx', sheet_name='9.3', usecols = \"B, C, D, E\", \n",
    "                   skiprows = (0, 1, 2, 3, 4, 5, 6, 7, 9, 10, 11))\n",
    "df.set_index('Age group of head', inplace=True)\n",
    "agh = df.High['16 to 24':'85 or over']\n",
    "agm = df.Marginal['16 to 24':'85 or over']\n",
    "agl = df.Low['16 to 24':'85 or over']\n",
    "print (\"Age group and food security\")\n",
    "plt.plot([agh, agm, agl])\n",
    "plt.ylabel(\"Percentage (%)\")\n",
    "plt.grid()\n",
    "print()\n",
    "plt.show()\n",
    "print(df.head(9))"
   ]
  },
  {
   "cell_type": "markdown",
   "metadata": {},
   "source": [
    "Ethnic group / Ethnicity\n",
    "<p style='text-align: justify;'>\n",
    "The ethnicity of the household's head influenced food security. Household heads from the white ethnic group were more food secure, with 93%, compared to 81% of household heads from other ethnic groups. 92% of Asian-headed households had food security. The majority of households in the dataset's sample size from various ethnic groups were food secure.</p>"
   ]
  },
  {
   "cell_type": "code",
   "execution_count": 8,
   "metadata": {},
   "outputs": [
    {
     "name": "stdout",
     "output_type": "stream",
     "text": [
      "Ethnicity and food security\n"
     ]
    },
    {
     "data": {
      "image/png": "[encoded data removed]",
      "text/plain": [
       "<Figure size 432x288 with 1 Axes>"
      ]
     },
     "metadata": {
      "needs_background": "light"
     },
     "output_type": "display_data"
    },
    {
     "name": "stdout",
     "output_type": "stream",
     "text": [
      "                                       Food_secure\n",
      "Ethnic group of head                              \n",
      "White                                         93.0\n",
      "Mixed/multiple ethnic groups                  90.0\n",
      "Asian/Asian British                           92.0\n",
      "Indian                                        95.0\n",
      "Pakistani                                     90.0\n",
      "Any other Asian background                    92.0\n",
      "Black/African/Caribbean/Black British         81.0\n",
      "Other ethnic group                            86.0\n"
     ]
    }
   ],
   "source": [
    "# Bar Chart 2. Ethnicity and food security- percentage\n",
    "# Table 7. Ethnic group of head\n",
    "df = pd.read_excel('Ch9_Household_Food_Security.xlsx', sheet_name='9.6', usecols = \"B, H\", \n",
    "                   skiprows = (0, 1, 2, 3, 4, 5, 6, 7, 9, 10, 11, 17, 18))\n",
    "df.set_index('Ethnic group of head', inplace=True)\n",
    "egfh = df.Food_secure['White':'Other ethnic group']\n",
    "print (\"Ethnicity and food security\")\n",
    "egfh.plot(kind='barh')\n",
    "plt.xlabel(\"Percentage (%)\")\n",
    "plt.show()\n",
    "print(df.head(8))"
   ]
  },
  {
   "cell_type": "markdown",
   "metadata": {},
   "source": [
    "Disability\n",
    "<p style='text-align: justify;'>\n",
    "Households with disabled members are more likely to experience food insecurity. Food security was achieved by 88% of households with one or more disabled members, in comparison to 95 percent of household with no disabled members. In comparison to 2% of household without any disabled member, 7% of household with disabled member were food insecure.</p> "
   ]
  },
  {
   "cell_type": "code",
   "execution_count": 9,
   "metadata": {},
   "outputs": [
    {
     "name": "stdout",
     "output_type": "stream",
     "text": [
      "Disability and food security\n"
     ]
    },
    {
     "data": {
      "image/png": "[encoded data removed]",
      "text/plain": [
       "<Figure size 432x288 with 1 Axes>"
      ]
     },
     "metadata": {},
     "output_type": "display_data"
    },
    {
     "name": "stdout",
     "output_type": "stream",
     "text": [
      "                                          Food secure  Food insecure\n",
      "Disability in household                                             \n",
      "One or more disabled adults in household         88.0           12.0\n"
     ]
    }
   ],
   "source": [
    "# Pie Chart 2. Disability and food security- percentage\n",
    "# Table 8. Disability in household\n",
    "df = pd.read_excel('Ch9_Household_Food_Security.xlsx', sheet_name='9.4', usecols = \"B, H, I\", \n",
    "                   skiprows = (0, 1, 2, 3, 4, 5, 6, 8, 9, 10, 11))\n",
    "df.set_index('Disability in household', inplace=True)\n",
    "dhfs = df.loc['One or more disabled adults in household']\n",
    "dhfsp = dhfs['Food secure': \"Food insecure\"]\n",
    "dhfsp.plot(kind='pie', autopct='%1.1f%%', label='UK')\n",
    "print (\"Disability and food security\")\n",
    "plt.xlabel(\"Percentage (%)\")\n",
    "plt.show()\n",
    "print(df.head(1))"
   ]
  },
  {
   "cell_type": "markdown",
   "metadata": {},
   "source": [
    "Visualisation Choices\n",
    "<p style='text-align: justify;'>\n",
    "The main variables and data in the dataset were mostly nominal in nature, with a few being ordinal data. The matplotlib library was used to visualise these data as graphs and charts in the visualisation process. Based on the data type, appropriate graph and chart were used from the matplotlib library for the visualisation. The graph and chart used in the visualisation process were useful for reflecting the outcome of the data analysis, and they are simple to understand in terms of human perception. In the graph and chart, appropriate titles and labels were used to help the reader understand the results of the data analysis. Different colours were used in the graph and chart to provide a visual presentation of both nominal and ordinal data for the visualisation. Tables were also used to present data as part of the data analysis because they organise data in an easy-to-scan format.</p>"
   ]
  },
  {
   "cell_type": "markdown",
   "metadata": {},
   "source": [
    "## Conclusions\n",
    "Key Findings\n",
    "<p style='text-align: justify;'>\n",
    "In terms of food security, the majority of households in the UK have access to a diverse range of foods necessary to maintain a healthy and active lifestyle. Those households that are food insecure have access to food in order to maintain an active lifestyle, but they lack variety. Households that own their home and earn more than £600 per week have better food security than households that rely on government assistance and are social renters. Households with the highest level of education and belonging to the white ethnic group are more likely to have greater food security than other ethnic groups. Food insecurity is more likely in households with disabled members than in other households.</p>\n",
    "<p style='text-align: justify;'>\n",
    "Further investigation of factors such as share of household food expense, changes in food prices, and food aid would have provided a clear understanding of how other external factors impact household food security.</p>\n",
    "\n",
    "Evaluation of Process\n",
    "<p style='text-align: justify;'>\n",
    "The visualisation process began with cleaning and formatting changes to the dataset, which makes working with the data easier. Variables of interest were identified in the dataset, and variables were classified according to their types. This process was very useful for summarising key variables and selecting the appropriate type of graph and chart for the visualisation. Variables were analysed and visualised using graphs and charts as part of the visualisation process. The visualisation process was useful for reflecting the outcome of the data analysis.</p>\n",
    "<p style='text-align: justify;'>\n",
    "Apart from the results, this project was very useful in terms of gaining a better understanding of how data from a dataset is analysed and visualised. The data analysis process was useful in learning how to identify and classify variables based on their types. Furthermore, the visualisation process was useful in learning how to use various Python libraries, such as pandas and matplotlib, for data visualisation. The visualisation process was also useful in determining the most effective method of explaining the data to the reader.</p>\n",
    "<p style='text-align: justify;'>\n",
    "One way to improve the project's findings is to use data from other datasets and sources related to this topic. Despite the fact that the dataset contained many tables, the majority of the tables had already been aggregated, so there was less opportunity to investigate the relationship between variables. The project could have been improved further by including a wider range of graph and cart types to visualise the data.</p>"
   ]
  },
  {
   "cell_type": "markdown",
   "metadata": {},
   "source": [
    "## References\n",
    "\n",
    "Family Resources Survey: financial year 2019 to 2020. [Online] \n",
    "Available at: https://assets.publishing.service.gov.uk/government/uploads/system/uploads/attachment_data/file/972867/Ch9_Household_Food_Security.xlsx\n",
    "[Accessed December 2022].\n",
    "\n",
    "\n",
    "\n",
    "Rome Declaration on World Food Security. World Food\n",
    "Summit, FAO (1996), Rome. [Online] \n",
    "Available at: https://www.fao.org/3/w3613e/w3613e00.htm \n",
    "[Accessed December 2022]."
   ]
  },
  {
   "cell_type": "markdown",
   "metadata": {},
   "source": [
    "## Appendices"
   ]
  },
  {
   "cell_type": "markdown",
   "metadata": {
    "editable": false
   },
   "source": [
    "## Word Count\n",
    "\n",
    "The following code will count the number of words in Markdown cells. Code cells are not included.\n",
    "\n",
    "- `Main word count` is the number of words in the main body of the text, *excluding* references or appendices.\n",
    "- `References and appendices word count` is the number of words in any references or appendices.\n",
    "\n",
    "Only `Main word count` relates to the assignment word limit. There is no limit to the number of words that can be included in references or appendices. Please note that appendices should only be used to provide context or supporting information. *No marks will be directly awarded for material submitted in appendices*.\n",
    "\n",
    "Important:\n",
    "\n",
    "- Please do not modify the word count code!\n",
    "- To exclude references from your word count **you must** have a cell that starts with the text `## References`. Everything below this cell will not count towards the main word count.\n",
    "- If you are submitting additional material as appendices **you must** have a cell that starts with the text `## Appendices`. Everything below this cell will not count towards the main word count. If you do not have any appendices you can delete the `## Appendices` cell.\n",
    "- Code comments should only be used to explain details of the implementation, not for discussing your findings. All analysis commentary **must** be written in Markdown cells. *No marks will be awarded for analysis discussion submitted as comments in code cells*."
   ]
  },
  {
   "cell_type": "code",
   "execution_count": 10,
   "metadata": {
    "editable": false,
    "tags": []
   },
   "outputs": [
    {
     "data": {
      "application/javascript": [
       "\n",
       "// Run this cell to update your word count.\n",
       "\n",
       "function wordcount() {\n",
       "    let wordCount = 0\n",
       "    let extraCount = 0\n",
       "    let mainBody = true\n",
       "\n",
       "    let cells = Jupyter.notebook.get_cells()\n",
       "    cells.forEach((cell) => {\n",
       "        if (cell.cell_type == 'markdown') {\n",
       "            let text = cell.get_text()\n",
       "            // Stop counting as main body when get to References or Appendices.\n",
       "            if (text.startsWith('## References') ||\n",
       "                text.startsWith('## Appendices')) {\n",
       "                mainBody = false\n",
       "            }\n",
       "            if (text.startsWith('## Word Count')) {\n",
       "                text = ''\n",
       "            }\n",
       "            if (text) {\n",
       "                let words = text.toLowerCase().match(/\\b[a-z\\d]+\\b/g)\n",
       "                if (words) {\n",
       "                    let cellCount = words.length\n",
       "                    if (mainBody) {\n",
       "                        wordCount += cellCount\n",
       "                    } else {\n",
       "                        extraCount += cellCount\n",
       "                    }\n",
       "                }\n",
       "            }\n",
       "        }\n",
       "    })\n",
       "    return [wordCount, extraCount]\n",
       "}\n",
       "\n",
       "let wc = wordcount()\n",
       "element.append(`Main word count: ${wc[0]} (References and appendices word count: ${wc[1]})`)\n"
      ],
      "text/plain": [
       "<IPython.core.display.Javascript object>"
      ]
     },
     "metadata": {},
     "output_type": "display_data"
    }
   ],
   "source": [
    "%%js\n",
    "\n",
    "// Run this cell to update your word count.\n",
    "\n",
    "function wordcount() {\n",
    "    let wordCount = 0\n",
    "    let extraCount = 0\n",
    "    let mainBody = true\n",
    "\n",
    "    let cells = Jupyter.notebook.get_cells()\n",
    "    cells.forEach((cell) => {\n",
    "        if (cell.cell_type == 'markdown') {\n",
    "            let text = cell.get_text()\n",
    "            // Stop counting as main body when get to References or Appendices.\n",
    "            if (text.startsWith('## References') ||\n",
    "                text.startsWith('## Appendices')) {\n",
    "                mainBody = false\n",
    "            }\n",
    "            if (text.startsWith('## Word Count')) {\n",
    "                text = ''\n",
    "            }\n",
    "            if (text) {\n",
    "                let words = text.toLowerCase().match(/\\b[a-z\\d]+\\b/g)\n",
    "                if (words) {\n",
    "                    let cellCount = words.length\n",
    "                    if (mainBody) {\n",
    "                        wordCount += cellCount\n",
    "                    } else {\n",
    "                        extraCount += cellCount\n",
    "                    }\n",
    "                }\n",
    "            }\n",
    "        }\n",
    "    })\n",
    "    return [wordCount, extraCount]\n",
    "}\n",
    "\n",
    "let wc = wordcount()\n",
    "element.append(`Main word count: ${wc[0]} (References and appendices word count: ${wc[1]})`)"
   ]
  }
 ],
 "metadata": {
  "celltoolbar": "Edit Metadata",
  "kernelspec": {
   "display_name": "Python 3",
   "language": "python",
   "name": "python3"
  },
  "language_info": {
   "codemirror_mode": {
    "name": "ipython",
    "version": 3
   },
   "file_extension": ".py",
   "mimetype": "text/x-python",
   "name": "python",
   "nbconvert_exporter": "python",
   "pygments_lexer": "ipython3",
   "version": "3.8.3"
  }
 },
 "nbformat": 4,
 "nbformat_minor": 5
}
